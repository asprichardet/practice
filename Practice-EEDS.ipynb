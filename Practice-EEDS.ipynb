{
 "cells": [
  {
   "cell_type": "code",
   "execution_count": 3,
   "metadata": {},
   "outputs": [],
   "source": [
    "import numpy as np\n",
    "import pandas as pd"
   ]
  },
  {
   "cell_type": "code",
   "execution_count": null,
   "metadata": {},
   "outputs": [
    {
     "name": "stdout",
     "output_type": "stream",
     "text": [
      "8\n",
      "['Mercury', 'Venus', 'Earth', 'Mars']\n"
     ]
    }
   ],
   "source": [
    "planets = ['Mercury','Venus','Earth','Mars','Jupiter','Saturn','Uranus','Neptune']"
   ]
  },
  {
   "cell_type": "code",
   "execution_count": 11,
   "metadata": {},
   "outputs": [
    {
     "name": "stdout",
     "output_type": "stream",
     "text": [
      "8\n",
      "['Mercury', 'Venus', 'Earth', 'Mars']\n"
     ]
    }
   ],
   "source": [
    "count = 0\n",
    "for planet in planets:\n",
    "    count = count + 1\n",
    "print(count)\n",
    "print(planets[0:4])"
   ]
  },
  {
   "cell_type": "code",
   "execution_count": 49,
   "metadata": {},
   "outputs": [],
   "source": [
    "def planets_with_s(x):\n",
    "    s_enders = []\n",
    "    for planet in x:\n",
    "        if planet.endswith('s'):\n",
    "            s_enders.append(planet)\n",
    "    print(s_enders)"
   ]
  },
  {
   "cell_type": "code",
   "execution_count": 50,
   "metadata": {},
   "outputs": [
    {
     "name": "stdout",
     "output_type": "stream",
     "text": [
      "['Venus', 'Mars', 'Uranus']\n"
     ]
    }
   ],
   "source": [
    "planets_with_s(planets)"
   ]
  },
  {
   "cell_type": "code",
   "execution_count": 65,
   "metadata": {},
   "outputs": [],
   "source": [
    "planets = [\n",
    "    {'name': 'Mercury', 'Order': 1},\n",
    "    {'name': 'Venus', 'Order': 2},\n",
    "    {'name': 'Earth', 'Order': 3},\n",
    "    {'name': 'Mars', 'Order': 4},\n",
    "]"
   ]
  },
  {
   "cell_type": "code",
   "execution_count": 68,
   "metadata": {},
   "outputs": [],
   "source": [
    "def planets_above_two(x):\n",
    "    output = []\n",
    "    for planet in x:\n",
    "        if planet['Order'] > 2:\n",
    "            output.append(planet['name'])\n",
    "    return output"
   ]
  },
  {
   "cell_type": "code",
   "execution_count": 109,
   "metadata": {},
   "outputs": [],
   "source": [
    "#Numpy & Matplotlib practice:\n",
    "\n",
    "import numpy as np\n",
    "import matplotlib.pyplot as plt\n",
    "\n",
    "x = np.linspace(-2,2,100)\n",
    "y = np.linspace(-2,2,100)\n",
    "\n",
    "xx, yy = np.meshgrid(x,y)\n"
   ]
  },
  {
   "cell_type": "code",
   "execution_count": 107,
   "metadata": {},
   "outputs": [
    {
     "data": {
      "text/plain": [
       "<matplotlib.collections.QuadMesh at 0x18656a2ed50>"
      ]
     },
     "execution_count": 107,
     "metadata": {},
     "output_type": "execute_result"
    },
    {
     "data": {
      "image/png": "[encoded data removed]",
      "text/plain": [
       "<Figure size 640x480 with 1 Axes>"
      ]
     },
     "metadata": {},
     "output_type": "display_data"
    }
   ],
   "source": [
    "plt.pcolormesh(xx)"
   ]
  },
  {
   "cell_type": "code",
   "execution_count": 104,
   "metadata": {},
   "outputs": [],
   "source": [
    "r = np.sqrt((x**2) + (y **2))\n",
    "theta = np.arctan2(y,x)"
   ]
  },
  {
   "cell_type": "code",
   "execution_count": null,
   "metadata": {},
   "outputs": [],
   "source": [
    "rr, tt = np.meshgrid(r,theta)\n",
    "plt.pcolormesh(tt)"
   ]
  },
  {
   "cell_type": "code",
   "execution_count": null,
   "metadata": {},
   "outputs": [],
   "source": [
    "#matplotlib learning:\n",
    "\n",
    "# create some data to plot\n",
    "import numpy as np\n",
    "x = np.linspace(-np.pi, np.pi, 100)\n",
    "y = np.cos(x)\n",
    "z = np.sin(6*x)\n",
    "\n",
    "\n",
    "fig, axes = plt.subplots(figsize=(8, 4), ncols=2)\n",
    "ax0, ax1 = axes\n",
    "ax0.plot(x, y, x, z)\n",
    "ax1.plot(x, z)"
   ]
  },
  {
   "cell_type": "code",
   "execution_count": 31,
   "metadata": {},
   "outputs": [
    {
     "data": {
      "text/html": [
       "<div>\n",
       "<style scoped>\n",
       "    .dataframe tbody tr th:only-of-type {\n",
       "        vertical-align: middle;\n",
       "    }\n",
       "\n",
       "    .dataframe tbody tr th {\n",
       "        vertical-align: top;\n",
       "    }\n",
       "\n",
       "    .dataframe thead th {\n",
       "        text-align: right;\n",
       "    }\n",
       "</style>\n",
       "<table border=\"1\" class=\"dataframe\">\n",
       "  <thead>\n",
       "    <tr style=\"text-align: right;\">\n",
       "      <th></th>\n",
       "      <th>coat</th>\n",
       "      <th>age</th>\n",
       "      <th>speed</th>\n",
       "      <th>name</th>\n",
       "    </tr>\n",
       "  </thead>\n",
       "  <tbody>\n",
       "    <tr>\n",
       "      <th>Fleck</th>\n",
       "      <td>Dun Sorrel</td>\n",
       "      <td>Young</td>\n",
       "      <td>Fast</td>\n",
       "      <td>Fleck</td>\n",
       "    </tr>\n",
       "    <tr>\n",
       "      <th>Gringo</th>\n",
       "      <td>Bay</td>\n",
       "      <td>Old</td>\n",
       "      <td>Slow</td>\n",
       "      <td>Gringo</td>\n",
       "    </tr>\n",
       "    <tr>\n",
       "      <th>Hippy</th>\n",
       "      <td>Sorrel</td>\n",
       "      <td>Medium</td>\n",
       "      <td>Medium</td>\n",
       "      <td>Hippy</td>\n",
       "    </tr>\n",
       "  </tbody>\n",
       "</table>\n",
       "</div>"
      ],
      "text/plain": [
       "              coat     age   speed    name\n",
       "Fleck   Dun Sorrel   Young    Fast   Fleck\n",
       "Gringo         Bay     Old    Slow  Gringo\n",
       "Hippy       Sorrel  Medium  Medium   Hippy"
      ]
     },
     "execution_count": 31,
     "metadata": {},
     "output_type": "execute_result"
    }
   ],
   "source": [
    "data = {'coat':['Dun Sorrel','Bay','Sorrel'],\n",
    "        'age':['Young','Old','Medium'],\n",
    "        'speed':['Fast','Slow','Medium'],\n",
    "        'name':['Fleck','Gringo','Hippy']\n",
    "        }\n",
    "\n",
    "df = pd.DataFrame(data, index = data['name'])\n",
    "df"
   ]
  },
  {
   "cell_type": "code",
   "execution_count": null,
   "metadata": {},
   "outputs": [],
   "source": [
    "feet = pd.DataFrame({'feet':['Bad','Good','Okay']}, index =data['name'])\n",
    "df = df.join(feet)"
   ]
  },
  {
   "cell_type": "code",
   "execution_count": 45,
   "metadata": {},
   "outputs": [
    {
     "data": {
      "text/html": [
       "<div>\n",
       "<style scoped>\n",
       "    .dataframe tbody tr th:only-of-type {\n",
       "        vertical-align: middle;\n",
       "    }\n",
       "\n",
       "    .dataframe tbody tr th {\n",
       "        vertical-align: top;\n",
       "    }\n",
       "\n",
       "    .dataframe thead th {\n",
       "        text-align: right;\n",
       "    }\n",
       "</style>\n",
       "<table border=\"1\" class=\"dataframe\">\n",
       "  <thead>\n",
       "    <tr style=\"text-align: right;\">\n",
       "      <th></th>\n",
       "      <th>coat</th>\n",
       "      <th>age</th>\n",
       "      <th>speed</th>\n",
       "      <th>name</th>\n",
       "      <th>feet</th>\n",
       "    </tr>\n",
       "  </thead>\n",
       "  <tbody>\n",
       "    <tr>\n",
       "      <th>Fleck</th>\n",
       "      <td>Dun Sorrel</td>\n",
       "      <td>Young</td>\n",
       "      <td>Fast</td>\n",
       "      <td>Fleck</td>\n",
       "      <td>Bad</td>\n",
       "    </tr>\n",
       "    <tr>\n",
       "      <th>Gringo</th>\n",
       "      <td>Bay</td>\n",
       "      <td>Old</td>\n",
       "      <td>Slow</td>\n",
       "      <td>Gringo</td>\n",
       "      <td>Good</td>\n",
       "    </tr>\n",
       "    <tr>\n",
       "      <th>Hippy</th>\n",
       "      <td>Sorrel</td>\n",
       "      <td>Medium</td>\n",
       "      <td>Medium</td>\n",
       "      <td>Hippy</td>\n",
       "      <td>Okay</td>\n",
       "    </tr>\n",
       "  </tbody>\n",
       "</table>\n",
       "</div>"
      ],
      "text/plain": [
       "              coat     age   speed    name  feet\n",
       "Fleck   Dun Sorrel   Young    Fast   Fleck   Bad\n",
       "Gringo         Bay     Old    Slow  Gringo  Good\n",
       "Hippy       Sorrel  Medium  Medium   Hippy  Okay"
      ]
     },
     "execution_count": 45,
     "metadata": {},
     "output_type": "execute_result"
    }
   ],
   "source": [
    "df"
   ]
  },
  {
   "cell_type": "code",
   "execution_count": 46,
   "metadata": {},
   "outputs": [
    {
     "data": {
      "text/html": [
       "<div>\n",
       "<style scoped>\n",
       "    .dataframe tbody tr th:only-of-type {\n",
       "        vertical-align: middle;\n",
       "    }\n",
       "\n",
       "    .dataframe tbody tr th {\n",
       "        vertical-align: top;\n",
       "    }\n",
       "\n",
       "    .dataframe thead th {\n",
       "        text-align: right;\n",
       "    }\n",
       "</style>\n",
       "<table border=\"1\" class=\"dataframe\">\n",
       "  <thead>\n",
       "    <tr style=\"text-align: right;\">\n",
       "      <th></th>\n",
       "      <th>coat</th>\n",
       "      <th>age</th>\n",
       "      <th>speed</th>\n",
       "      <th>name</th>\n",
       "      <th>feet</th>\n",
       "    </tr>\n",
       "  </thead>\n",
       "  <tbody>\n",
       "    <tr>\n",
       "      <th>Fleck</th>\n",
       "      <td>Dun Sorrel</td>\n",
       "      <td>Young</td>\n",
       "      <td>Fast</td>\n",
       "      <td>Fleck</td>\n",
       "      <td>Bad</td>\n",
       "    </tr>\n",
       "    <tr>\n",
       "      <th>Gringo</th>\n",
       "      <td>Bay</td>\n",
       "      <td>Old</td>\n",
       "      <td>Slow</td>\n",
       "      <td>Gringo</td>\n",
       "      <td>Good</td>\n",
       "    </tr>\n",
       "    <tr>\n",
       "      <th>Hippy</th>\n",
       "      <td>Sorrel</td>\n",
       "      <td>Medium</td>\n",
       "      <td>Medium</td>\n",
       "      <td>Hippy</td>\n",
       "      <td>Okay</td>\n",
       "    </tr>\n",
       "  </tbody>\n",
       "</table>\n",
       "</div>"
      ],
      "text/plain": [
       "              coat     age   speed    name  feet\n",
       "Fleck   Dun Sorrel   Young    Fast   Fleck   Bad\n",
       "Gringo         Bay     Old    Slow  Gringo  Good\n",
       "Hippy       Sorrel  Medium  Medium   Hippy  Okay"
      ]
     },
     "execution_count": 46,
     "metadata": {},
     "output_type": "execute_result"
    }
   ],
   "source": [
    "\n",
    "df.reindex(['Fleck','Gringo','Hippy'])\n",
    "df"
   ]
  },
  {
   "cell_type": "code",
   "execution_count": null,
   "metadata": {},
   "outputs": [],
   "source": [
    "#this is a test of git checkout"
   ]
  }
 ],
 "metadata": {
  "kernelspec": {
   "display_name": "learning",
   "language": "python",
   "name": "python3"
  },
  "language_info": {
   "codemirror_mode": {
    "name": "ipython",
    "version": 3
   },
   "file_extension": ".py",
   "mimetype": "text/x-python",
   "name": "python",
   "nbconvert_exporter": "python",
   "pygments_lexer": "ipython3",
   "version": "3.13.0"
  }
 },
 "nbformat": 4,
 "nbformat_minor": 2
}
