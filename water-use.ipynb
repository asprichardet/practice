{
 "cells": [
  {
   "cell_type": "code",
   "execution_count": 403,
   "metadata": {},
   "outputs": [],
   "source": [
    "#Incorporating MN & SWUBS water use\n",
    "import pandas as pd\n",
    "import geopandas as gpd\n",
    "import numpy as np"
   ]
  },
  {
   "cell_type": "code",
   "execution_count": 802,
   "metadata": {},
   "outputs": [],
   "source": [
    "#Read in data\n",
    "merged_wu_df = gpd.read_file('merged_WUdata_03212025.xlsx')\n",
    "#Convert to geodataframe\n",
    "merged_wu_gdf = gpd.GeoDataFrame(merged_wu_df, geometry = gpd.points_from_xy(x = merged_wu_df['utm_x'],y = merged_wu_df['utm_y']), crs = 'epsg:26915')\n",
    "\n",
    "#Creating input \n",
    "        \n",
    "merged_wu_gdf = merged_wu_gdf[merged_wu_gdf.columns[~merged_wu_gdf.columns.str.contains('200|199|198', regex = True)]] \n",
    "# merged_wu_gdf.drop(merged_wu_gdf.filter(regex='200|199|198', axis = 1), axis = 1, inplace = True) #Alternative using filter\n",
    "    \n",
    "merged_wu_gdf = merged_wu_gdf[~merged_wu_gdf['use_type'].str.contains('Dewatering')]\n",
    "    \n",
    "merged_wu_gdf =  merged_wu_gdf[merged_wu_gdf.loc[:,'use_2021_mg':'use_2010_mg'].sum(axis = 1) > 0]\n",
    "\n",
    "output_df = merged_wu_gdf.loc[:,['well_number','utm_x','utm_y','well_depth_ft','geometry']]\n",
    "output_df['use_2021-2010_mg'] = merged_wu_gdf.loc[:,'use_2021_mg':'use_2010_mg'].sum(axis =1 )\n",
    "output_df = output_df.loc[:,['well_number','use_2021-2010_mg','well_depth_ft','utm_x','utm_y','geometry']].reset_index(drop = True)\n",
    "\n",
    "output_df.to_csv('merged_wu_data.csv', index = False)\n"
   ]
  },
  {
   "cell_type": "code",
   "execution_count": null,
   "metadata": {},
   "outputs": [
    {
     "name": "stderr",
     "output_type": "stream",
     "text": [
      "c:\\Users\\arichardet\\AppData\\Local\\miniforge3\\envs\\cc-python-dev\\Lib\\site-packages\\pyogrio\\geopandas.py:265: UserWarning: More than one layer found in 'WUDS_download_03212025.xlsx': 'Water Quantity' (default), 'Search Criteria'. Specify layer parameter to avoid this warning.\n",
      "  result = read_func(\n"
     ]
    }
   ],
   "source": [
    "#Read in Data\n",
    "wuds_df = gpd.read_file('WUDS_download_03212025.xlsx')\n",
    "\n",
    "#Filter out unnecessary columns\n",
    "work_df = wuds_df.loc[:,['FROM Legacy Site Id', 'FROM Site Number', 'FROM Station Name', 'FROM DMS Latitude', 'FROM DMS Longitude', 'FROM Well Depth', 'FROM Altitude', 'Annual Value']]\n",
    "#Adding in the value columns\n",
    "work_df[wuds_df.loc[:, 'January Value':'December Value'].columns] = wuds_df.loc[:, 'January Value':'December Value']\n",
    "\n",
    "\n",
    "group_df = work_df.groupby('FROM Legacy Site Id')\n",
    "agg_func = dict.fromkeys(list(work_df.columns[7:20]),'sum')\n",
    "agg_group_df = group_df.agg(agg_func)\n",
    "\n",
    "\n",
    "work_df_nodupe = work_df[~work_df[\"FROM Legacy Site Id\"].duplicated()].set_index('FROM Legacy Site Id')\n",
    "\n",
    "output_df = work_df_nodupe.loc[:,'FROM Site Number':'FROM Altitude'].join(agg_group_df, how = 'outer',).reset_index() #Indexing to only join the first 7 unconflicted rows to the fixed output\n",
    "output_df['month_sum_value'] = np.float64(output_df.loc[:,'January Value':'December Value']).sum(axis = 1)\n",
    "test = output_df.columns.lower\n",
    "\n",
    "output_df.to_csv('wuds_data.csv', index = False)"
   ]
  },
  {
   "cell_type": "code",
   "execution_count": null,
   "metadata": {},
   "outputs": [
    {
     "ename": "AttributeError",
     "evalue": "'method_descriptor' object has no attribute 'replace'",
     "output_type": "error",
     "traceback": [
      "\u001b[31m---------------------------------------------------------------------------\u001b[39m",
      "\u001b[31mAttributeError\u001b[39m                            Traceback (most recent call last)",
      "\u001b[36mCell\u001b[39m\u001b[36m \u001b[39m\u001b[32mIn[828]\u001b[39m\u001b[32m, line 1\u001b[39m\n\u001b[32m----> \u001b[39m\u001b[32m1\u001b[39m test = \u001b[38;5;28mlist\u001b[39m(\u001b[38;5;28mmap\u001b[39m(\u001b[38;5;28;43mstr\u001b[39;49m\u001b[43m.\u001b[49m\u001b[43mlower\u001b[49m\u001b[43m.\u001b[49m\u001b[43mreplace\u001b[49m(\u001b[33m'\u001b[39m\u001b[33m \u001b[39m\u001b[33m'\u001b[39m,\u001b[33m'\u001b[39m\u001b[33m_\u001b[39m\u001b[33m'\u001b[39m).replace(\u001b[33m'\u001b[39m\u001b[33mfrom\u001b[39m\u001b[33m'\u001b[39m,\u001b[33m'\u001b[39m\u001b[33m'\u001b[39m),output_df.columns))\n\u001b[32m      2\u001b[39m \u001b[38;5;66;03m# def formatter(input):\u001b[39;00m\n\u001b[32m      3\u001b[39m \u001b[38;5;66;03m#     input.str.lower().replace(' ','_').replace('from')\u001b[39;00m\n\u001b[32m      4\u001b[39m \u001b[38;5;66;03m#     return input\u001b[39;00m\n\u001b[32m      5\u001b[39m \n\u001b[32m      6\u001b[39m \u001b[38;5;66;03m# test = list(formatter,output_df.columns)\u001b[39;00m\n\u001b[32m      8\u001b[39m output_df.columns\n",
      "\u001b[31mAttributeError\u001b[39m: 'method_descriptor' object has no attribute 'replace'"
     ]
    }
   ],
   "source": [
    "test = list(map(str.lower.replace(' ','_').replace('from',''),output_df.columns)) # USE A LAMBDA FUNCTION TO MAKE THIS WORK\n",
    "# def formatter(input):\n",
    "#     input.str.lower().replace(' ','_').replace('from')\n",
    "#     return input\n",
    "\n",
    "# test = list(formatter,output_df.columns)\n",
    "\n",
    "output_df.columns\n",
    "test"
   ]
  }
 ],
 "metadata": {
  "kernelspec": {
   "display_name": "cc-python-dev",
   "language": "python",
   "name": "python3"
  },
  "language_info": {
   "codemirror_mode": {
    "name": "ipython",
    "version": 3
   },
   "file_extension": ".py",
   "mimetype": "text/x-python",
   "name": "python",
   "nbconvert_exporter": "python",
   "pygments_lexer": "ipython3",
   "version": "3.13.2"
  }
 },
 "nbformat": 4,
 "nbformat_minor": 2
}
